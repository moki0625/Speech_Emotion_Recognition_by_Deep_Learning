{
  "nbformat": 4,
  "nbformat_minor": 0,
  "metadata": {
    "colab": {
      "name": "LSTM Model.ipynb",
      "provenance": [],
      "collapsed_sections": []
    },
    "kernelspec": {
      "name": "python3",
      "display_name": "Python 3"
    },
    "language_info": {
      "name": "python"
    }
  },
  "cells": [
    {
      "cell_type": "code",
      "metadata": {
        "colab": {
          "base_uri": "https://localhost:8080/"
        },
        "id": "hcCTVLM3qP9t",
        "outputId": "1395f2db-445d-4e52-a5a5-0ef28e364d8e"
      },
      "source": [
        "from google.colab import drive\n",
        "drive.mount('/content/drive')"
      ],
      "execution_count": 1,
      "outputs": [
        {
          "output_type": "stream",
          "text": [
            "Mounted at /content/drive\n"
          ],
          "name": "stdout"
        }
      ]
    },
    {
      "cell_type": "code",
      "metadata": {
        "id": "o-b4b3NTqb0D"
      },
      "source": [
        "import json\n",
        "import numpy as np\n",
        "from sklearn.model_selection import train_test_split\n",
        "import tensorflow.keras as keras\n",
        "import matplotlib.pyplot as plt\n",
        "from sklearn.utils import shuffle"
      ],
      "execution_count": 9,
      "outputs": []
    },
    {
      "cell_type": "code",
      "metadata": {
        "id": "wJm7PCjdqdnq"
      },
      "source": [
        "DATA_PATH = '/content/drive/MyDrive/dataset_real.json'"
      ],
      "execution_count": 19,
      "outputs": []
    },
    {
      "cell_type": "code",
      "metadata": {
        "id": "up_2dr9Eqlzp"
      },
      "source": [
        "def load_data(data_path):\n",
        "    '''Load training data from json file\n",
        "    \n",
        "    -Parameters\n",
        "    '''\n",
        "    \n",
        "    with open(data_path, 'r') as fp:\n",
        "        data = json.load(fp)\n",
        "\n",
        "    X = np.array(data['mfcc'], dtype=object)\n",
        "    y = np.array(data['labels'])\n",
        "    \n",
        "    return X,y\n"
      ],
      "execution_count": 20,
      "outputs": []
    },
    {
      "cell_type": "code",
      "metadata": {
        "colab": {
          "base_uri": "https://localhost:8080/"
        },
        "id": "_ghqGDtTqncQ",
        "outputId": "202bfd68-2df1-4cb5-ad60-e1db90cd84fd"
      },
      "source": [
        "X, y = load_data(DATA_PATH)\n",
        "y.shape"
      ],
      "execution_count": 21,
      "outputs": [
        {
          "output_type": "execute_result",
          "data": {
            "text/plain": [
              "(1240,)"
            ]
          },
          "metadata": {
            "tags": []
          },
          "execution_count": 21
        }
      ]
    },
    {
      "cell_type": "code",
      "metadata": {
        "id": "0_qrhkuCqxNO"
      },
      "source": [
        "def prepare_datasets(data_path, test_size, validation_size):\n",
        "    \n",
        "    X, y = load_data(data_path)\n",
        "\n",
        "    X = X.astype('float32')\n",
        "    y = y.astype('int64')\n",
        "\n",
        "    for i in range(len(y)):\n",
        "      if y[i] in [3, 4, 5]:\n",
        "        y[i] -= 1\n",
        "      \n",
        "    y = y-1\n",
        "    X_shuffle, y_shuffle = shuffle(X, y)\n",
        "\n",
        "\n",
        "    X_train, X_test, y_train, y_test = train_test_split(X_shuffle, y_shuffle, test_size=0.25)\n",
        "    X_train, X_validation, y_train, y_validation = train_test_split(X_train, y_train, test_size=0.2)\n",
        "\n",
        "\n",
        "    return X_train, X_validation, X_test, y_train, y_validation, y_test"
      ],
      "execution_count": 22,
      "outputs": []
    },
    {
      "cell_type": "code",
      "metadata": {
        "id": "CS_mdY9YqzSr"
      },
      "source": [
        "X_train, X_validation, X_test, y_train, y_validation, y_test = prepare_datasets(DATA_PATH, 0.25, 0.2)"
      ],
      "execution_count": 23,
      "outputs": []
    },
    {
      "cell_type": "code",
      "metadata": {
        "colab": {
          "base_uri": "https://localhost:8080/"
        },
        "id": "Q2ywP_8zwLBU",
        "outputId": "443784e4-9784-43bc-9d60-bc2f5d44cca2"
      },
      "source": [
        "y_train.shape"
      ],
      "execution_count": 24,
      "outputs": [
        {
          "output_type": "execute_result",
          "data": {
            "text/plain": [
              "(744,)"
            ]
          },
          "metadata": {
            "tags": []
          },
          "execution_count": 24
        }
      ]
    },
    {
      "cell_type": "code",
      "metadata": {
        "id": "NfHVcN-aq14m"
      },
      "source": [
        "# Build model\n",
        "def build_model(input_shape):\n",
        "    \n",
        "    model = keras.Sequential()\n",
        "    \n",
        "    # 2 LSTM layers\n",
        "    model.add(keras.layers.LSTM(64, input_shape=input_shape, return_sequences=True))\n",
        "    model.add(keras.layers.LSTM(64))\n",
        "    \n",
        "    # dense layer\n",
        "    model.add(keras.layers.Dense(64, activation='relu'))\n",
        "    model.add(keras.layers.Dropout(0.3))\n",
        "    \n",
        "    # output layer\n",
        "    model.add(keras.layers.Dense(10, activation='softmax'))\n",
        "    \n",
        "    return model"
      ],
      "execution_count": 25,
      "outputs": []
    },
    {
      "cell_type": "code",
      "metadata": {
        "colab": {
          "base_uri": "https://localhost:8080/"
        },
        "id": "1tI_u1Pnq4V8",
        "outputId": "be572530-b0ce-4a7a-e350-2d5d91633385"
      },
      "source": [
        "X_train.shape"
      ],
      "execution_count": 26,
      "outputs": [
        {
          "output_type": "execute_result",
          "data": {
            "text/plain": [
              "(744, 44, 20)"
            ]
          },
          "metadata": {
            "tags": []
          },
          "execution_count": 26
        }
      ]
    },
    {
      "cell_type": "code",
      "metadata": {
        "colab": {
          "base_uri": "https://localhost:8080/"
        },
        "id": "YxdH3NbQq_y4",
        "outputId": "c8649141-dac7-46a0-b228-7b6cb113f2d5"
      },
      "source": [
        "# Create network\n",
        "input_shape = (X_train.shape[1], X_train.shape[2])\n",
        "model = build_model(input_shape)\n",
        "\n",
        "# Compile model\n",
        "optimizer = keras.optimizers.Adam(learning_rate=0.0001)\n",
        "model.compile(optimizer=optimizer,\n",
        "              loss=keras.losses.sparse_categorical_crossentropy,\n",
        "              metrics=['accuracy'])\n",
        "\n",
        "model.summary()\n",
        "\n",
        "# Train the model\n",
        "history = model.fit(X_train, y_train, validation_data=(X_validation, y_validation),batch_size=32, epochs=30)\n",
        "print(X_train.shape)\n",
        "\n",
        "#Evaluate the LSTM test set\n",
        "print('Evaluate the LSTM on test set')\n",
        "test_error, test_accuracy = model.evaluate(X_test, y_test, verbose=1)\n",
        "print('Accuracy: {}'.format(test_accuracy))"
      ],
      "execution_count": 30,
      "outputs": [
        {
          "output_type": "stream",
          "text": [
            "Model: \"sequential_2\"\n",
            "_________________________________________________________________\n",
            "Layer (type)                 Output Shape              Param #   \n",
            "=================================================================\n",
            "lstm_4 (LSTM)                (None, 44, 64)            21760     \n",
            "_________________________________________________________________\n",
            "lstm_5 (LSTM)                (None, 64)                33024     \n",
            "_________________________________________________________________\n",
            "dense_4 (Dense)              (None, 64)                4160      \n",
            "_________________________________________________________________\n",
            "dropout_2 (Dropout)          (None, 64)                0         \n",
            "_________________________________________________________________\n",
            "dense_5 (Dense)              (None, 10)                650       \n",
            "=================================================================\n",
            "Total params: 59,594\n",
            "Trainable params: 59,594\n",
            "Non-trainable params: 0\n",
            "_________________________________________________________________\n",
            "Epoch 1/30\n",
            "24/24 [==============================] - 5s 89ms/step - loss: 2.3046 - accuracy: 0.0766 - val_loss: 2.1669 - val_accuracy: 0.3602\n",
            "Epoch 2/30\n",
            "24/24 [==============================] - 1s 56ms/step - loss: 2.0900 - accuracy: 0.4382 - val_loss: 1.9795 - val_accuracy: 0.5753\n",
            "Epoch 3/30\n",
            "24/24 [==============================] - 1s 56ms/step - loss: 1.9281 - accuracy: 0.5511 - val_loss: 1.7988 - val_accuracy: 0.5860\n",
            "Epoch 4/30\n",
            "24/24 [==============================] - 1s 55ms/step - loss: 1.7267 - accuracy: 0.5914 - val_loss: 1.5799 - val_accuracy: 0.6129\n",
            "Epoch 5/30\n",
            "24/24 [==============================] - 1s 54ms/step - loss: 1.5240 - accuracy: 0.6237 - val_loss: 1.3527 - val_accuracy: 0.6505\n",
            "Epoch 6/30\n",
            "24/24 [==============================] - 1s 55ms/step - loss: 1.3004 - accuracy: 0.6694 - val_loss: 1.1300 - val_accuracy: 0.6882\n",
            "Epoch 7/30\n",
            "24/24 [==============================] - 1s 55ms/step - loss: 1.1315 - accuracy: 0.7030 - val_loss: 0.9543 - val_accuracy: 0.7473\n",
            "Epoch 8/30\n",
            "24/24 [==============================] - 1s 55ms/step - loss: 1.0087 - accuracy: 0.7312 - val_loss: 0.8315 - val_accuracy: 0.7581\n",
            "Epoch 9/30\n",
            "24/24 [==============================] - 1s 54ms/step - loss: 0.8815 - accuracy: 0.7433 - val_loss: 0.7411 - val_accuracy: 0.7634\n",
            "Epoch 10/30\n",
            "24/24 [==============================] - 1s 53ms/step - loss: 0.8243 - accuracy: 0.7608 - val_loss: 0.6632 - val_accuracy: 0.8065\n",
            "Epoch 11/30\n",
            "24/24 [==============================] - 1s 54ms/step - loss: 0.7805 - accuracy: 0.7823 - val_loss: 0.6101 - val_accuracy: 0.8118\n",
            "Epoch 12/30\n",
            "24/24 [==============================] - 1s 54ms/step - loss: 0.7193 - accuracy: 0.7796 - val_loss: 0.5710 - val_accuracy: 0.8172\n",
            "Epoch 13/30\n",
            "24/24 [==============================] - 1s 52ms/step - loss: 0.6718 - accuracy: 0.8105 - val_loss: 0.5317 - val_accuracy: 0.8118\n",
            "Epoch 14/30\n",
            "24/24 [==============================] - 1s 55ms/step - loss: 0.6076 - accuracy: 0.8306 - val_loss: 0.4931 - val_accuracy: 0.8065\n",
            "Epoch 15/30\n",
            "24/24 [==============================] - 1s 55ms/step - loss: 0.5998 - accuracy: 0.8347 - val_loss: 0.4539 - val_accuracy: 0.8387\n",
            "Epoch 16/30\n",
            "24/24 [==============================] - 1s 52ms/step - loss: 0.5734 - accuracy: 0.8441 - val_loss: 0.4383 - val_accuracy: 0.8280\n",
            "Epoch 17/30\n",
            "24/24 [==============================] - 1s 53ms/step - loss: 0.5151 - accuracy: 0.8616 - val_loss: 0.4131 - val_accuracy: 0.8548\n",
            "Epoch 18/30\n",
            "24/24 [==============================] - 1s 54ms/step - loss: 0.5011 - accuracy: 0.8683 - val_loss: 0.3865 - val_accuracy: 0.8602\n",
            "Epoch 19/30\n",
            "24/24 [==============================] - 1s 53ms/step - loss: 0.4816 - accuracy: 0.8804 - val_loss: 0.3686 - val_accuracy: 0.8656\n",
            "Epoch 20/30\n",
            "24/24 [==============================] - 1s 54ms/step - loss: 0.4453 - accuracy: 0.8831 - val_loss: 0.3371 - val_accuracy: 0.8817\n",
            "Epoch 21/30\n",
            "24/24 [==============================] - 1s 54ms/step - loss: 0.4178 - accuracy: 0.8911 - val_loss: 0.3391 - val_accuracy: 0.8656\n",
            "Epoch 22/30\n",
            "24/24 [==============================] - 1s 52ms/step - loss: 0.3903 - accuracy: 0.8965 - val_loss: 0.3161 - val_accuracy: 0.8710\n",
            "Epoch 23/30\n",
            "24/24 [==============================] - 1s 52ms/step - loss: 0.3537 - accuracy: 0.9167 - val_loss: 0.2995 - val_accuracy: 0.8817\n",
            "Epoch 24/30\n",
            "24/24 [==============================] - 1s 51ms/step - loss: 0.3474 - accuracy: 0.9099 - val_loss: 0.2954 - val_accuracy: 0.8817\n",
            "Epoch 25/30\n",
            "24/24 [==============================] - 1s 52ms/step - loss: 0.3343 - accuracy: 0.9180 - val_loss: 0.2830 - val_accuracy: 0.8817\n",
            "Epoch 26/30\n",
            "24/24 [==============================] - 1s 51ms/step - loss: 0.3152 - accuracy: 0.9073 - val_loss: 0.2717 - val_accuracy: 0.8925\n",
            "Epoch 27/30\n",
            "24/24 [==============================] - 1s 51ms/step - loss: 0.3045 - accuracy: 0.9274 - val_loss: 0.2776 - val_accuracy: 0.9086\n",
            "Epoch 28/30\n",
            "24/24 [==============================] - 1s 50ms/step - loss: 0.3088 - accuracy: 0.9274 - val_loss: 0.2774 - val_accuracy: 0.8978\n",
            "Epoch 29/30\n",
            "24/24 [==============================] - 1s 51ms/step - loss: 0.2778 - accuracy: 0.9288 - val_loss: 0.2632 - val_accuracy: 0.9032\n",
            "Epoch 30/30\n",
            "24/24 [==============================] - 1s 53ms/step - loss: 0.2723 - accuracy: 0.9288 - val_loss: 0.2873 - val_accuracy: 0.8978\n",
            "(744, 44, 20)\n",
            "Evaluate the LSTM on test set\n",
            "10/10 [==============================] - 0s 16ms/step - loss: 0.4397 - accuracy: 0.8645\n",
            "Accuracy: 0.8645161390304565\n"
          ],
          "name": "stdout"
        }
      ]
    },
    {
      "cell_type": "code",
      "metadata": {
        "id": "0whfpIMPuLoX"
      },
      "source": [
        "def plot_history(history):\n",
        "\n",
        "  fig, axs = plt.subplots(2)\n",
        "\n",
        "  # create accuracy subplot\n",
        "  axs[0].plot(history.history['accuracy'], label='train accuracy')\n",
        "  axs[0].plot(history.history['val_accuracy'], label='test accuracy')\n",
        "  axs[0].set_ylabel('Accuracy')\n",
        "  axs[0].legend()\n",
        "  axs[0].set_title('accuracy eval')\n",
        "\n",
        "  # create error subplot\n",
        "  axs[1].plot(history.history['loss'], label='train error')\n",
        "  axs[1].plot(history.history['val_loss'], label='test error')\n",
        "  axs[1].set_ylabel('loss')\n",
        "  axs[1].legend()\n",
        "  axs[1].set_title('loss eval')"
      ],
      "execution_count": 28,
      "outputs": []
    },
    {
      "cell_type": "code",
      "metadata": {
        "colab": {
          "base_uri": "https://localhost:8080/",
          "height": 281
        },
        "id": "JS11CuNHvD0o",
        "outputId": "ac412938-4006-411f-cdd7-5d0373dd75cd"
      },
      "source": [
        "plot_history(history)"
      ],
      "execution_count": 29,
      "outputs": [
        {
          "output_type": "display_data",
          "data": {
            "image/png": "[encoded data removed]",
            "text/plain": [
              "<Figure size 432x288 with 2 Axes>"
            ]
          },
          "metadata": {
            "tags": [],
            "needs_background": "light"
          }
        }
      ]
    },
    {
      "cell_type": "code",
      "metadata": {
        "id": "YnjyFMZv1I3K"
      },
      "source": [
        "from sklearn.metrics import confusion_matrix\n",
        "cm = confusion_matrix(test_labels, test_prediction)\n",
        "\n",
        "figure, ax = plt.subplots(figsize = (6,6))\n",
        "sns.set(font_scale = 1.6)\n",
        "sns.heatmap(cm, annot = True, linewidths=.5, ax=ax)"
      ],
      "execution_count": null,
      "outputs": []
    }
  ]
}